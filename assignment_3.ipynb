{
 "cells": [
  {
   "cell_type": "markdown",
   "id": "7c6c1330",
   "metadata": {},
   "source": [
    "# Assignment 3\n",
    "### Due 9/21. Do four of five."
   ]
  },
  {
   "cell_type": "markdown",
   "id": "c7761202",
   "metadata": {},
   "source": [
    "1. \n",
    "- Open the NHANES (or Ames prices or college completion datasets, if you prefer)\n",
    "- Find two categorical variables of interest (there are 198, and short descriptions are given in the `nhanes_meta_17_18.csv` file). Investigate their missing values (you don't have to focus on missing values for this analysis like we did with police use of force, but always be aware of how dirty the data are)\n",
    "- Compute a contingency table for your categorical $X$ and $Y$\n",
    "- Discuss any interesting patterns (or lack of one) that you observe"
   ]
  },
  {
   "cell_type": "code",
   "execution_count": 1,
   "id": "428c6203",
   "metadata": {},
   "outputs": [
    {
     "data": {
      "text/plain": [
       "['SEQN',\n",
       " 'GeneralHealthCondition',\n",
       " 'EverBreastfedOrFedBreastmilk',\n",
       " 'AgeStoppedBreastfeedingdays',\n",
       " 'AgeFirstFedFormuladays',\n",
       " 'AgeStoppedReceivingFormuladays',\n",
       " 'AgeStartedOtherFoodbeverage',\n",
       " 'AgeFirstFedMilkdays',\n",
       " 'TypeOfMilkFirstFedWholeMilk',\n",
       " 'TypeOfMilkFirstFed2Milk',\n",
       " 'TypeOfMilkFirstFed1Milk',\n",
       " 'TypeOfMilkFirstFedFatFreeMilk',\n",
       " 'TypeOfMilkFirstFedSoyMilk',\n",
       " 'TypeOfMilkFirstFedOther',\n",
       " 'HowHealthyIsTheDiet',\n",
       " 'Past30DayMilkProductConsumption',\n",
       " 'YouDrinkWholeOrRegularMilk',\n",
       " 'YouDrink2FatMilk',\n",
       " 'YouDrink1FatMilk',\n",
       " 'YouDrinkFatFreeskimMilk',\n",
       " 'YouDrinkSoyMilk',\n",
       " 'YouDrinkAnotherTypeOfMilk',\n",
       " 'RegularMilkUse5TimesPerWeek',\n",
       " 'HowOftenDrankMilkAge512',\n",
       " 'HowOftenDrankMilkAge1317',\n",
       " 'HowOftenDrankMilkAge1835',\n",
       " 'CommunitygovernmentMealsDelivered',\n",
       " 'EatMealsAtCommunityseniorCenter',\n",
       " 'AttendKindergartenThruHighSchool',\n",
       " 'SchoolServesSchoolLunches',\n",
       " 'OfTimesweekGetSchoolLunch',\n",
       " 'SchoolLunchFreeReducedOrFullPrice',\n",
       " 'SchoolServeCompleteBreakfastEachDay',\n",
       " 'OfTimesweekGetSchoolBreakfast',\n",
       " 'SchoolBreakfastFreereducedfullPrice',\n",
       " 'SummerProgramMealFreereducedPrice',\n",
       " 'OfMealsNotHomePrepared',\n",
       " 'OfMealsFromFastFoodOrPizzaPlace',\n",
       " 'OfReadytoeatFoodsInPast30Days',\n",
       " 'OfFrozenMealspizzaInPast30Days',\n",
       " 'HeardOfMyPlate',\n",
       " 'LookedUpMyPlateOnInternet',\n",
       " 'TriedMyPlatePlan',\n",
       " 'MainMealPlannerpreparer',\n",
       " 'SharedMealPlanningpreparingDuty',\n",
       " 'MainFoodShopper',\n",
       " 'SharedFoodShoppingDuty',\n",
       " 'HaveSeriousDifficultyHearing',\n",
       " 'HaveSeriousDifficultySeeing',\n",
       " 'HaveSeriousDifficultyConcentrating',\n",
       " 'HaveSeriousDifficultyWalking',\n",
       " 'HaveDifficultyDressingOrBathing',\n",
       " 'HaveDifficultyDoingErrandsAlone',\n",
       " 'HowOftenDoYouFeelWorriedOrAnxious',\n",
       " 'TakeMedicationForTheseFeelings',\n",
       " 'HowOftenDoYouFeelDepressed',\n",
       " 'TakeMedicationForDepression',\n",
       " 'CoveredByHealthInsurance',\n",
       " 'UsualSleepTimeOnWeekdaysOrWorkdays',\n",
       " 'UsualWakeTimeOnWeekdaysOrWorkdays',\n",
       " 'SleepHoursWeekdaysOrWorkdays',\n",
       " 'HowOftenDoYouSnore',\n",
       " 'EverToldDoctorHadTroubleSleeping',\n",
       " 'HowOftenFeelOverlySleepyDuringDay',\n",
       " 'HaveLittleInterestInDoingThings',\n",
       " 'FeelingDownDepressedOrHopeless',\n",
       " 'TroubleSleepingOrSleepingTooMuch',\n",
       " 'FeelingTiredOrHavingLittleEnergy',\n",
       " 'PoorAppetiteOrOvereating',\n",
       " 'FeelingBadAboutYourself',\n",
       " 'TroubleConcentratingOnThings',\n",
       " 'MovingOrSpeakingSlowlyOrTooFast',\n",
       " 'ThoughtYouWouldBeBetterOffDead',\n",
       " 'DifficultyTheseProblemsHaveCaused',\n",
       " 'SmokedTobaccoLast5Days',\n",
       " 'DaysSmokedCigarettesLast5Days',\n",
       " 'CigarettesSmokedPerDay',\n",
       " 'UsedAnyTobaccoProductLast5Days',\n",
       " 'ExperienceConfusionmemoryProblems',\n",
       " 'PhysicalMentalEmotionalLimitations',\n",
       " 'DifficultyManagingMoney',\n",
       " '60SecHr30SecHr2',\n",
       " '60SecPulse30SecPulse2',\n",
       " 'SystolicBloodPres1StRdgMmHg',\n",
       " 'DiastolicBloodPres1StRdgMmHg',\n",
       " 'SystolicBloodPres2NdRdgMmHg',\n",
       " 'DiastolicBloodPres2NdRdgMmHg',\n",
       " 'SystolicBloodPres3RdRdgMmHg',\n",
       " 'DiastolicBloodPres3RdRdgMmHg',\n",
       " 'EnergyKcal_DR2TOT',\n",
       " 'ProteinGm_DR2TOT',\n",
       " 'CarbohydrateGm_DR2TOT',\n",
       " 'TotalSugarsGm_DR2TOT',\n",
       " 'DietaryFiberGm_DR2TOT',\n",
       " 'TotalFatGm_DR2TOT',\n",
       " 'TotalSaturatedFattyAcidsGm_DR2TOT',\n",
       " 'TotalMonounsaturatedFattyAcidsGm_DR2TOT',\n",
       " 'TotalPolyunsaturatedFattyAcidsGm_DR2TOT',\n",
       " 'CholesterolMg_DR2TOT',\n",
       " 'AlcoholGm_DR2TOT',\n",
       " 'WeightKg',\n",
       " 'RecumbentLengthCm',\n",
       " 'StandingHeightCm',\n",
       " 'BodyMassIndexKgm2',\n",
       " 'WaistCircumferenceCm',\n",
       " 'DirectHdlcholesterolMgdl',\n",
       " 'TotalCholesterolMgdl',\n",
       " 'VigorousWorkActivity',\n",
       " 'ModerateWorkActivity',\n",
       " 'WalkOrBicycle',\n",
       " 'VigorousRecreationalActivities',\n",
       " 'ModerateRecreationalActivities',\n",
       " 'MinutesSedentaryActivity',\n",
       " 'EverBeenToldYouHaveAsthma',\n",
       " 'DoctorEverSaidYouHadArthritis',\n",
       " 'EverToldYouHadHeartAttack',\n",
       " 'AgeWhenToldYouHadHeartAttack',\n",
       " 'EverToldYouHadAStroke',\n",
       " 'AgeWhenToldYouHadAStroke',\n",
       " 'EverToldYouHadCancerOrMalignancy',\n",
       " '1StCancerWhatKindWasIt',\n",
       " 'Age1StCancerMcq230ADiagnosed',\n",
       " 'EverUsedMarijuanaOrHashish',\n",
       " 'DaysUsedMarijuanaOrHashishmonth',\n",
       " 'EverUsedCocaineheroinmethamphetamine',\n",
       " 'EverUseAnyFormOfCocaine',\n",
       " 'OfDaysUsedCocainemonth',\n",
       " 'EverUsedHeroin',\n",
       " 'OfDaysUsedHeroinmonth',\n",
       " 'EverUsedMethamphetamine',\n",
       " 'DaysUsedMethamphetaminemonth',\n",
       " 'EverBeenInRehabilitationProgram',\n",
       " 'BloodLeadUgdl',\n",
       " 'BloodCadmiumUgl',\n",
       " 'BloodMercuryTotalUgl',\n",
       " 'BloodSeleniumUgl',\n",
       " 'BloodManganeseUgl',\n",
       " 'Gender',\n",
       " 'AgeInYearsAtScreening',\n",
       " 'AgeInMonthsAtScreening0To24Mos',\n",
       " 'RacehispanicOrigin',\n",
       " 'RacehispanicOriginWNhAsian',\n",
       " 'ServedActiveDutyInUsArmedForces',\n",
       " 'EducationLevelChildrenyouth619',\n",
       " 'EducationLevelAdults20',\n",
       " 'MaritalStatus',\n",
       " 'TotalNumberOfPeopleInTheHousehold',\n",
       " 'TotalNumberOfPeopleInTheFamily',\n",
       " 'OfChildren5YearsOrYoungerInHh',\n",
       " 'OfChildren617YearsOldInHh',\n",
       " 'OfAdults60YearsOrOlderInHh',\n",
       " 'AnnualHouseholdIncome',\n",
       " 'AnnualFamilyIncome',\n",
       " 'RatioOfFamilyIncomeToPoverty',\n",
       " 'TrunkFatG',\n",
       " 'TrunkPercentFat',\n",
       " 'TotalPercentFat',\n",
       " 'HowOftenAddSaltToFoodAtTable',\n",
       " 'OnSpecialDiet',\n",
       " 'WeightLosslowCalorieDiet',\n",
       " 'LowFatlowCholesterolDiet',\n",
       " 'LowSaltlowSodiumDiet',\n",
       " 'DiabeticDiet',\n",
       " 'LowCarbohydrateDiet',\n",
       " 'EnergyKcal_DR1TOT',\n",
       " 'ProteinGm_DR1TOT',\n",
       " 'CarbohydrateGm_DR1TOT',\n",
       " 'TotalSugarsGm_DR1TOT',\n",
       " 'DietaryFiberGm_DR1TOT',\n",
       " 'TotalFatGm_DR1TOT',\n",
       " 'TotalSaturatedFattyAcidsGm_DR1TOT',\n",
       " 'TotalMonounsaturatedFattyAcidsGm_DR1TOT',\n",
       " 'TotalPolyunsaturatedFattyAcidsGm_DR1TOT',\n",
       " 'CholesterolMg_DR1TOT',\n",
       " 'AlcoholGm_DR1TOT',\n",
       " 'TunaEatenDuringPast30Days',\n",
       " 'DoctorToldYouHaveDiabetes',\n",
       " 'AgeWhenFirstToldYouHadDiabetes',\n",
       " 'EverToldYouHavePrediabetes',\n",
       " 'EverToldHaveHealthRiskForDiabetes',\n",
       " 'FamilyHistory',\n",
       " 'TakingInsulinNow',\n",
       " 'TakeDiabeticPillsToLowerBloodSugar',\n",
       " 'WhatWasYourLastA1CLevel',\n",
       " 'Glycohemoglobin',\n",
       " 'SmokedAtLeast100CigarettesInLife',\n",
       " 'AgeStartedSmokingCigarettesRegularly',\n",
       " 'DoYouNowSmokeCigarettes',\n",
       " 'DaysSmokedCigsDuringPast30Days',\n",
       " 'AvgCigarettesdayDuringPast30Days',\n",
       " 'TriedToQuitSmoking',\n",
       " 'TimesStoppedSmokingCigarettes',\n",
       " 'HowLongWereYouAbleToStopSmoking',\n",
       " 'UnitOfMeasureDayweekmonthyear_2_SMQ',\n",
       " 'CurrentSelfreportedHeightInches',\n",
       " 'CurrentSelfreportedWeightPounds',\n",
       " 'TriedToLoseWeightInPastYear',\n",
       " 'TimesLost10LbsOrMoreToLoseWeight']"
      ]
     },
     "execution_count": 1,
     "metadata": {},
     "output_type": "execute_result"
    }
   ],
   "source": [
    "import numpy as np\n",
    "import matplotlib.pyplot as plt\n",
    "import pandas as pd\n",
    "NHANES = pd.read_csv('data/nhanes_data_17_18.csv', low_memory=False)\n",
    "NHANES.head()\n",
    "NHANES.describe()\n",
    "NHANES.columns.tolist()\n",
    "\n",
    "\n",
    "\n"
   ]
  },
  {
   "cell_type": "code",
   "execution_count": 2,
   "id": "6bbdf130",
   "metadata": {},
   "outputs": [
    {
     "name": "stdout",
     "output_type": "stream",
     "text": [
      "Total number of rows: 8366\n"
     ]
    },
    {
     "data": {
      "text/plain": [
       "GeneralHealthCondition\n",
       "Good         2454\n",
       "NaN          2402\n",
       "Very good    1544\n",
       "Fair or      1175\n",
       "Excellent     619\n",
       "Poor?         172\n",
       "Name: count, dtype: int64"
      ]
     },
     "execution_count": 2,
     "metadata": {},
     "output_type": "execute_result"
    }
   ],
   "source": [
    "row_count = len(NHANES)\n",
    "print(f\"Total number of rows: {row_count}\")\n",
    "NHANES['GeneralHealthCondition'].value_counts(dropna=False)\n"
   ]
  },
  {
   "cell_type": "code",
   "execution_count": 3,
   "id": "04bb479f",
   "metadata": {},
   "outputs": [
    {
     "name": "stdout",
     "output_type": "stream",
     "text": [
      "Missing values in 'GeneralHealthCondition': 2402\n",
      "Total number of rows: 5964\n"
     ]
    },
    {
     "data": {
      "text/plain": [
       "GeneralHealthCondition\n",
       "Good         2454\n",
       "Very good    1544\n",
       "Fair or      1175\n",
       "Excellent     619\n",
       "Poor?         172\n",
       "Name: count, dtype: int64"
      ]
     },
     "execution_count": 3,
     "metadata": {},
     "output_type": "execute_result"
    }
   ],
   "source": [
    "missing_values_count = NHANES['GeneralHealthCondition'].isnull().sum()\n",
    "print(f\"Missing values in 'GeneralHealthCondition': {missing_values_count}\")\n",
    "NHANES_NEW = NHANES.dropna(subset=['GeneralHealthCondition'])\n",
    "row_count = len(NHANES_NEW)\n",
    "print(f\"Total number of rows: {row_count}\")\n",
    "NHANES_NEW['GeneralHealthCondition'].value_counts(dropna=False)\n",
    "\n",
    "\n",
    "\n"
   ]
  },
  {
   "cell_type": "code",
   "execution_count": 4,
   "id": "77d9a051",
   "metadata": {},
   "outputs": [
    {
     "name": "stdout",
     "output_type": "stream",
     "text": [
      "Missing values in 'AnnualFamilyIncome': 722\n",
      "Total number of rows: 5242\n"
     ]
    },
    {
     "data": {
      "text/plain": [
       "AnnualFamilyIncome\n",
       "100000.0    1024\n",
       "30000.0      652\n",
       "40000.0      599\n",
       "87500.0      533\n",
       "50000.0      399\n",
       "22500.0      380\n",
       "17500.0      358\n",
       "60000.0      347\n",
       "12500.0      294\n",
       "70000.0      260\n",
       "2000.0       209\n",
       "7500.0       187\n",
       "Name: count, dtype: int64"
      ]
     },
     "execution_count": 4,
     "metadata": {},
     "output_type": "execute_result"
    }
   ],
   "source": [
    "missing_values_count = NHANES_NEW['AnnualFamilyIncome'].isnull().sum()\n",
    "print(f\"Missing values in 'AnnualFamilyIncome': {missing_values_count}\")\n",
    "NHANES_Final = NHANES_NEW.dropna(subset=['AnnualFamilyIncome'])\n",
    "row_count = len(NHANES_Final)\n",
    "print(f\"Total number of rows: {row_count}\")\n",
    "NHANES_Final['AnnualFamilyIncome'].value_counts(dropna=False)"
   ]
  },
  {
   "cell_type": "code",
   "execution_count": 5,
   "id": "e6a21242",
   "metadata": {},
   "outputs": [
    {
     "name": "stdout",
     "output_type": "stream",
     "text": [
      "   AnnualFamilyIncome GeneralHealthCondition\n",
      "2             12500.0                   Good\n",
      "4             70000.0                   Good\n",
      "5             30000.0                   Good\n",
      "7            100000.0              Very good\n",
      "8             17500.0                   Good\n",
      "       AnnualFamilyIncome\n",
      "count         5242.000000\n",
      "mean         51857.687905\n",
      "std          32830.869995\n",
      "min           2000.000000\n",
      "25%          22500.000000\n",
      "50%          40000.000000\n",
      "75%          87500.000000\n",
      "max         100000.000000\n"
     ]
    }
   ],
   "source": [
    "NHANES_Final_Analysis = NHANES_Final[['AnnualFamilyIncome', 'GeneralHealthCondition']]\n",
    "# NHANES_Final_Analysis.isnull().sum()\n",
    "print(NHANES_Final_Analysis.head())\n",
    "print(NHANES_Final_Analysis.describe())"
   ]
  },
  {
   "cell_type": "code",
   "execution_count": 6,
   "id": "6abac751",
   "metadata": {},
   "outputs": [
    {
     "data": {
      "text/html": [
       "<div>\n",
       "<style scoped>\n",
       "    .dataframe tbody tr th:only-of-type {\n",
       "        vertical-align: middle;\n",
       "    }\n",
       "\n",
       "    .dataframe tbody tr th {\n",
       "        vertical-align: top;\n",
       "    }\n",
       "\n",
       "    .dataframe thead th {\n",
       "        text-align: right;\n",
       "    }\n",
       "</style>\n",
       "<table border=\"1\" class=\"dataframe\">\n",
       "  <thead>\n",
       "    <tr style=\"text-align: right;\">\n",
       "      <th>GeneralHealthCondition</th>\n",
       "      <th>Excellent</th>\n",
       "      <th>Fair or</th>\n",
       "      <th>Good</th>\n",
       "      <th>Poor?</th>\n",
       "      <th>Very good</th>\n",
       "    </tr>\n",
       "    <tr>\n",
       "      <th>AnnualFamilyIncome</th>\n",
       "      <th></th>\n",
       "      <th></th>\n",
       "      <th></th>\n",
       "      <th></th>\n",
       "      <th></th>\n",
       "    </tr>\n",
       "  </thead>\n",
       "  <tbody>\n",
       "    <tr>\n",
       "      <th>2000.0</th>\n",
       "      <td>26</td>\n",
       "      <td>59</td>\n",
       "      <td>71</td>\n",
       "      <td>13</td>\n",
       "      <td>40</td>\n",
       "    </tr>\n",
       "    <tr>\n",
       "      <th>7500.0</th>\n",
       "      <td>15</td>\n",
       "      <td>60</td>\n",
       "      <td>66</td>\n",
       "      <td>19</td>\n",
       "      <td>27</td>\n",
       "    </tr>\n",
       "    <tr>\n",
       "      <th>12500.0</th>\n",
       "      <td>19</td>\n",
       "      <td>109</td>\n",
       "      <td>122</td>\n",
       "      <td>9</td>\n",
       "      <td>35</td>\n",
       "    </tr>\n",
       "    <tr>\n",
       "      <th>17500.0</th>\n",
       "      <td>24</td>\n",
       "      <td>91</td>\n",
       "      <td>152</td>\n",
       "      <td>18</td>\n",
       "      <td>73</td>\n",
       "    </tr>\n",
       "    <tr>\n",
       "      <th>22500.0</th>\n",
       "      <td>33</td>\n",
       "      <td>91</td>\n",
       "      <td>175</td>\n",
       "      <td>15</td>\n",
       "      <td>66</td>\n",
       "    </tr>\n",
       "    <tr>\n",
       "      <th>30000.0</th>\n",
       "      <td>62</td>\n",
       "      <td>141</td>\n",
       "      <td>295</td>\n",
       "      <td>19</td>\n",
       "      <td>135</td>\n",
       "    </tr>\n",
       "    <tr>\n",
       "      <th>40000.0</th>\n",
       "      <td>59</td>\n",
       "      <td>111</td>\n",
       "      <td>277</td>\n",
       "      <td>18</td>\n",
       "      <td>134</td>\n",
       "    </tr>\n",
       "    <tr>\n",
       "      <th>50000.0</th>\n",
       "      <td>40</td>\n",
       "      <td>71</td>\n",
       "      <td>173</td>\n",
       "      <td>8</td>\n",
       "      <td>107</td>\n",
       "    </tr>\n",
       "    <tr>\n",
       "      <th>60000.0</th>\n",
       "      <td>31</td>\n",
       "      <td>55</td>\n",
       "      <td>151</td>\n",
       "      <td>4</td>\n",
       "      <td>106</td>\n",
       "    </tr>\n",
       "    <tr>\n",
       "      <th>70000.0</th>\n",
       "      <td>25</td>\n",
       "      <td>44</td>\n",
       "      <td>113</td>\n",
       "      <td>2</td>\n",
       "      <td>76</td>\n",
       "    </tr>\n",
       "    <tr>\n",
       "      <th>87500.0</th>\n",
       "      <td>64</td>\n",
       "      <td>68</td>\n",
       "      <td>213</td>\n",
       "      <td>6</td>\n",
       "      <td>182</td>\n",
       "    </tr>\n",
       "    <tr>\n",
       "      <th>100000.0</th>\n",
       "      <td>157</td>\n",
       "      <td>107</td>\n",
       "      <td>366</td>\n",
       "      <td>10</td>\n",
       "      <td>384</td>\n",
       "    </tr>\n",
       "  </tbody>\n",
       "</table>\n",
       "</div>"
      ],
      "text/plain": [
       "GeneralHealthCondition  Excellent  Fair or  Good  Poor?  Very good\n",
       "AnnualFamilyIncome                                                \n",
       "2000.0                         26       59    71     13         40\n",
       "7500.0                         15       60    66     19         27\n",
       "12500.0                        19      109   122      9         35\n",
       "17500.0                        24       91   152     18         73\n",
       "22500.0                        33       91   175     15         66\n",
       "30000.0                        62      141   295     19        135\n",
       "40000.0                        59      111   277     18        134\n",
       "50000.0                        40       71   173      8        107\n",
       "60000.0                        31       55   151      4        106\n",
       "70000.0                        25       44   113      2         76\n",
       "87500.0                        64       68   213      6        182\n",
       "100000.0                      157      107   366     10        384"
      ]
     },
     "execution_count": 6,
     "metadata": {},
     "output_type": "execute_result"
    }
   ],
   "source": [
    "contingency_table = pd.crosstab(NHANES_Final_Analysis['AnnualFamilyIncome'], NHANES_Final_Analysis['GeneralHealthCondition'])\n",
    "contingency_table"
   ]
  },
  {
   "cell_type": "markdown",
   "id": "f5af8d7c",
   "metadata": {},
   "source": [
    "Based on my analysis, I would conclude that there is an association between Annual Family Income and General Health Condition. It seems like as income increases, health condition also becomes better. From my standpoint, this makes sense as more income means you have more money to spend on health care and take care of yourself. "
   ]
  },
  {
   "cell_type": "markdown",
   "id": "6cef48e5",
   "metadata": {},
   "source": [
    "2. \n",
    "- Open the NHANES dataset\n",
    "- Find a categorical and numeric variable of interest (there are 198, and short descriptions are given in the `nhanes_meta_17_18.csv` file). Investigate their missing values (you don't have to focus on missing values for this analysis, but always be aware of them)\n",
    "- Make descriptive tables and grouped kernel density plots to represent the variation in your numeric $Y$ conditional on your categorical $X$\n",
    "- Discuss any interesting patterns (or lack of one) that you observe"
   ]
  },
  {
   "cell_type": "code",
   "execution_count": 11,
   "id": "97f9c0ea",
   "metadata": {},
   "outputs": [
    {
     "name": "stdout",
     "output_type": "stream",
     "text": [
      "Missing values in 'GeneralHealthCondition': 2402\n",
      "Total number of rows: 5964\n"
     ]
    },
    {
     "data": {
      "text/plain": [
       "GeneralHealthCondition\n",
       "Good         2454\n",
       "Very good    1544\n",
       "Fair or      1175\n",
       "Excellent     619\n",
       "Poor?         172\n",
       "Name: count, dtype: int64"
      ]
     },
     "execution_count": 11,
     "metadata": {},
     "output_type": "execute_result"
    }
   ],
   "source": [
    "missing_values_count = NHANES['GeneralHealthCondition'].isnull().sum()\n",
    "print(f\"Missing values in 'GeneralHealthCondition': {missing_values_count}\")\n",
    "NHANES_NEW = NHANES.dropna(subset=['GeneralHealthCondition'])\n",
    "row_count = len(NHANES_NEW)\n",
    "print(f\"Total number of rows: {row_count}\")\n",
    "NHANES_NEW['GeneralHealthCondition'].value_counts(dropna=False)"
   ]
  },
  {
   "cell_type": "code",
   "execution_count": 10,
   "id": "804f6b00",
   "metadata": {},
   "outputs": [
    {
     "name": "stdout",
     "output_type": "stream",
     "text": [
      "Missing values in 'BodyMassIndexKgm2': 72\n",
      "Total number of rows: 5892\n"
     ]
    },
    {
     "data": {
      "text/plain": [
       "BodyMassIndexKgm2\n",
       "24.3    50\n",
       "26.1    48\n",
       "27.9    46\n",
       "26.6    44\n",
       "28.0    43\n",
       "        ..\n",
       "49.2     1\n",
       "68.2     1\n",
       "13.8     1\n",
       "84.4     1\n",
       "15.0     1\n",
       "Name: count, Length: 420, dtype: int64"
      ]
     },
     "execution_count": 10,
     "metadata": {},
     "output_type": "execute_result"
    }
   ],
   "source": [
    "missing_values_count = NHANES_NEW['BodyMassIndexKgm2'].isnull().sum() \n",
    "print(f\"Missing values in 'BodyMassIndexKgm2': {missing_values_count}\")\n",
    "NHANES_Final = NHANES_NEW.dropna(subset=['BodyMassIndexKgm2'])\n",
    "row_count = len(NHANES_Final)\n",
    "print(f\"Total number of rows: {row_count}\")\n",
    "NHANES_Final['BodyMassIndexKgm2'].value_counts(dropna=False)"
   ]
  },
  {
   "cell_type": "code",
   "execution_count": 9,
   "id": "acb13708",
   "metadata": {},
   "outputs": [
    {
     "name": "stdout",
     "output_type": "stream",
     "text": [
      "GeneralHealthCondition  BodyMassIndexKgm2\n",
      "Good                    24.6                 24\n",
      "                        26.6                 24\n",
      "Very good               26.1                 21\n",
      "Good                    28.3                 21\n",
      "                        29.9                 21\n",
      "                                             ..\n",
      "Very good               48.5                  1\n",
      "                        49.0                  1\n",
      "                        49.3                  1\n",
      "                        49.9                  1\n",
      "                        51.3                  1\n",
      "Name: count, Length: 1278, dtype: int64\n",
      "       BodyMassIndexKgm2\n",
      "count        5892.000000\n",
      "mean           28.976952\n",
      "std             7.547699\n",
      "min            13.200000\n",
      "25%            23.800000\n",
      "50%            27.900000\n",
      "75%            32.900000\n",
      "max            86.200000\n"
     ]
    }
   ],
   "source": [
    "NHANES_Final_Analysis_2 = NHANES_Final[['GeneralHealthCondition', 'BodyMassIndexKgm2']]\n",
    "# NHANES_Final_Analysis.isnull().sum()\n",
    "# NHANES_Final_Analysis_2.head()\n",
    "print(NHANES_Final_Analysis_2.value_counts(dropna=False))\n",
    "print(NHANES_Final_Analysis_2.describe())"
   ]
  },
  {
   "cell_type": "code",
   "execution_count": 12,
   "id": "ee8ba676",
   "metadata": {},
   "outputs": [
    {
     "data": {
      "image/png": "[encoded data removed]",
      "text/plain": [
       "<Figure size 640x480 with 1 Axes>"
      ]
     },
     "metadata": {},
     "output_type": "display_data"
    }
   ],
   "source": [
    "import seaborn as sns\n",
    "conditioner = 'GeneralHealthCondition'\n",
    "sns.kdeplot( data=NHANES_Final_Analysis_2, x='BodyMassIndexKgm2', hue= conditioner, common_norm=False ).set(title='KDE')\n",
    "plt.show()"
   ]
  },
  {
   "cell_type": "code",
   "execution_count": 13,
   "id": "fe55771d",
   "metadata": {},
   "outputs": [
    {
     "data": {
      "text/html": [
       "<div>\n",
       "<style scoped>\n",
       "    .dataframe tbody tr th:only-of-type {\n",
       "        vertical-align: middle;\n",
       "    }\n",
       "\n",
       "    .dataframe tbody tr th {\n",
       "        vertical-align: top;\n",
       "    }\n",
       "\n",
       "    .dataframe thead th {\n",
       "        text-align: right;\n",
       "    }\n",
       "</style>\n",
       "<table border=\"1\" class=\"dataframe\">\n",
       "  <thead>\n",
       "    <tr style=\"text-align: right;\">\n",
       "      <th></th>\n",
       "      <th>count</th>\n",
       "      <th>mean</th>\n",
       "      <th>std</th>\n",
       "      <th>min</th>\n",
       "      <th>25%</th>\n",
       "      <th>50%</th>\n",
       "      <th>75%</th>\n",
       "      <th>max</th>\n",
       "    </tr>\n",
       "    <tr>\n",
       "      <th>GeneralHealthCondition</th>\n",
       "      <th></th>\n",
       "      <th></th>\n",
       "      <th></th>\n",
       "      <th></th>\n",
       "      <th></th>\n",
       "      <th></th>\n",
       "      <th></th>\n",
       "      <th></th>\n",
       "    </tr>\n",
       "  </thead>\n",
       "  <tbody>\n",
       "    <tr>\n",
       "      <th>Excellent</th>\n",
       "      <td>611.0</td>\n",
       "      <td>25.291489</td>\n",
       "      <td>5.706559</td>\n",
       "      <td>13.8</td>\n",
       "      <td>21.400</td>\n",
       "      <td>24.3</td>\n",
       "      <td>28.1</td>\n",
       "      <td>57.3</td>\n",
       "    </tr>\n",
       "    <tr>\n",
       "      <th>Fair or</th>\n",
       "      <td>1152.0</td>\n",
       "      <td>31.719358</td>\n",
       "      <td>8.030610</td>\n",
       "      <td>15.0</td>\n",
       "      <td>26.100</td>\n",
       "      <td>30.8</td>\n",
       "      <td>36.1</td>\n",
       "      <td>72.6</td>\n",
       "    </tr>\n",
       "    <tr>\n",
       "      <th>Good</th>\n",
       "      <td>2425.0</td>\n",
       "      <td>29.600948</td>\n",
       "      <td>7.480121</td>\n",
       "      <td>13.2</td>\n",
       "      <td>24.500</td>\n",
       "      <td>28.7</td>\n",
       "      <td>33.5</td>\n",
       "      <td>86.2</td>\n",
       "    </tr>\n",
       "    <tr>\n",
       "      <th>Poor?</th>\n",
       "      <td>170.0</td>\n",
       "      <td>34.252353</td>\n",
       "      <td>10.318606</td>\n",
       "      <td>14.9</td>\n",
       "      <td>28.275</td>\n",
       "      <td>33.3</td>\n",
       "      <td>37.7</td>\n",
       "      <td>84.4</td>\n",
       "    </tr>\n",
       "    <tr>\n",
       "      <th>Very good</th>\n",
       "      <td>1534.0</td>\n",
       "      <td>26.814342</td>\n",
       "      <td>6.154614</td>\n",
       "      <td>14.6</td>\n",
       "      <td>22.600</td>\n",
       "      <td>26.1</td>\n",
       "      <td>30.1</td>\n",
       "      <td>57.7</td>\n",
       "    </tr>\n",
       "  </tbody>\n",
       "</table>\n",
       "</div>"
      ],
      "text/plain": [
       "                         count       mean        std   min     25%   50%  \\\n",
       "GeneralHealthCondition                                                     \n",
       "Excellent                611.0  25.291489   5.706559  13.8  21.400  24.3   \n",
       "Fair or                 1152.0  31.719358   8.030610  15.0  26.100  30.8   \n",
       "Good                    2425.0  29.600948   7.480121  13.2  24.500  28.7   \n",
       "Poor?                    170.0  34.252353  10.318606  14.9  28.275  33.3   \n",
       "Very good               1534.0  26.814342   6.154614  14.6  22.600  26.1   \n",
       "\n",
       "                         75%   max  \n",
       "GeneralHealthCondition              \n",
       "Excellent               28.1  57.3  \n",
       "Fair or                 36.1  72.6  \n",
       "Good                    33.5  86.2  \n",
       "Poor?                   37.7  84.4  \n",
       "Very good               30.1  57.7  "
      ]
     },
     "execution_count": 13,
     "metadata": {},
     "output_type": "execute_result"
    }
   ],
   "source": [
    "NHANES_Final_Analysis_2.groupby(\"GeneralHealthCondition\")[\"BodyMassIndexKgm2\"].describe()\n",
    "\n",
    "\n"
   ]
  },
  {
   "cell_type": "markdown",
   "id": "a5d03bf2",
   "metadata": {},
   "source": [
    "As health condition declines from “Excellent” to “Poor”, the BMI distribution shifts to the right, meaning that BMI gets higher. This shows that higher BMI leads to lower self-reported health.Those with excellent/good health are more tightly in the normal BMI range, while those reporting poor health show higher levels of BMI. Based on the output of the description table, seems like most of the sample size had a average BMI index values, considering that based on the clustering groups, majority of them were in the Fair or Good. "
   ]
  },
  {
   "cell_type": "markdown",
   "id": "4952e789",
   "metadata": {},
   "source": [
    "3. \n",
    "We showed that the mean and median could be discovered by minimizing various kinds of loss functions; this is what machine learning is. To make a prediction $\\hat{y}(z)$ of $Y$ when $X=z$, minimize the mean squared error:\n",
    "$$\n",
    "MSE(\\hat{y}(z)) = \\dfrac{1}{N} \\sum_{i=1}^N \\left\\lbrace y_i - \\hat{y}(z) \\right\\rbrace^2 \\frac{1}{h}k\\left(\\frac{z-x_i}{h}\\right)\n",
    "$$\n",
    "Show that the solution to this problem is the LCLS/Naradaya-Watson estimator."
   ]
  },
  {
   "cell_type": "markdown",
   "id": "223ec314",
   "metadata": {},
   "source": [
    "# Derivation:\n",
    "\n",
    "\n",
    "*1*: Treat $\\hat y(z)$ as a scalar parameter; differentiate and set derivative equal to zero:\n",
    "\n",
    "$$\n",
    "\\frac{\\partial}{\\partial \\hat y(z)}\\mathrm{MSE}(\\hat y(z))\n",
    "= \\frac{1}{N}\\sum_{i=1}^N 2\\bigl(\\hat y(z)-y_i\\bigr)\\,\\frac{1}{h}k\\!\\Bigl(\\frac{z-x_i}{h}\\Bigr)=0.\n",
    "$$\n",
    "\n",
    "Remove the constant factor $2/(N h)$ (nonzero) to get\n",
    "\n",
    "$$\n",
    "\\sum_{i=1}^N \\bigl(\\hat y(z)-y_i\\bigr)\\,k\\!\\Bigl(\\frac{z-x_i}{h}\\Bigr)=0.\n",
    "$$\n",
    "\n",
    "Solve for $\\hat y(z)$. First, expand the first term:\n",
    "\n",
    "$$\n",
    "\\hat y(z)\\sum_{i=1}^N k\\!\\Bigl(\\frac{z-x_i}{h}\\Bigr)\n",
    "-\\sum_{i=1}^N y_i\\,k\\!\\Bigl(\\frac{z-x_i}{h}\\Bigr)=0.\n",
    "$$\n",
    "\n",
    "Isolate $\\hat y(z)$:\n",
    "\n",
    "$$\n",
    "\\hat y(z)\n",
    "= \\frac{\\sum_{i=1}^N y_i\\,k\\!\\bigl(\\frac{z-x_i}{h}\\bigr)}\n",
    "{\\sum_{i=1}^N k\\!\\bigl(\\frac{z-x_i}{h}\\bigr)}.\n",
    "$$"
   ]
  },
  {
   "cell_type": "markdown",
   "id": "98884d76",
   "metadata": {},
   "source": [
    "4. \n",
    "- Write a class or set of functions that implement the LCLS/Naradaya-Watson estimator, using the Silverman plug-in estimate for the conditioning variable $X$ as the bandwidth.\n",
    "- From one of the course data sets, find two numeric variables of interest, analyze their relationship with the the LCLS/Naradaya-Watson estimator, and discuss your results."
   ]
  },
  {
   "cell_type": "markdown",
   "id": "0534c110",
   "metadata": {},
   "source": [
    "5. \n",
    "- In any of the available data sets, investigate the relationships between pairs of variables $(X,Y)$ with a scatterplot and CEF (for example, price on area)\n",
    "- Is this relationship plausibly causal, or are there missing variables that might explain at least part of the relationship between your variables? These can be \"conceptual\" rather than \"practical\"; for example, 'talent' or 'grit' probably explain education outcomes, but are almost impossible to measure. We are asking whether there are hypothetical **threats to causal identification** of the effect of $X$ on $Y$.\n",
    "- Explain how, regardless of the threat to causal identification, you can still use your model to predict $Y$ given $X$, as long as you don't intervene in the system to control the outcome"
   ]
  },
  {
   "cell_type": "code",
   "execution_count": 14,
   "id": "67e25190",
   "metadata": {},
   "outputs": [
    {
     "data": {
      "text/plain": [
       "['Order',\n",
       " 'PID',\n",
       " 'area',\n",
       " 'price',\n",
       " 'MS.SubClass',\n",
       " 'MS.Zoning',\n",
       " 'Lot.Frontage',\n",
       " 'Lot.Area',\n",
       " 'Street',\n",
       " 'Alley',\n",
       " 'Lot.Shape',\n",
       " 'Land.Contour',\n",
       " 'Utilities',\n",
       " 'Lot.Config',\n",
       " 'Land.Slope',\n",
       " 'Neighborhood',\n",
       " 'Condition.1',\n",
       " 'Condition.2',\n",
       " 'Bldg.Type',\n",
       " 'House.Style',\n",
       " 'Overall.Qual',\n",
       " 'Overall.Cond',\n",
       " 'Year.Built',\n",
       " 'Year.Remod.Add',\n",
       " 'Roof.Style',\n",
       " 'Roof.Matl',\n",
       " 'Exterior.1st',\n",
       " 'Exterior.2nd',\n",
       " 'Mas.Vnr.Type',\n",
       " 'Mas.Vnr.Area',\n",
       " 'Exter.Qual',\n",
       " 'Exter.Cond',\n",
       " 'Foundation',\n",
       " 'Bsmt.Qual',\n",
       " 'Bsmt.Cond',\n",
       " 'Bsmt.Exposure',\n",
       " 'BsmtFin.Type.1',\n",
       " 'BsmtFin.SF.1',\n",
       " 'BsmtFin.Type.2',\n",
       " 'BsmtFin.SF.2',\n",
       " 'Bsmt.Unf.SF',\n",
       " 'Total.Bsmt.SF',\n",
       " 'Heating',\n",
       " 'Heating.QC',\n",
       " 'Central.Air',\n",
       " 'Electrical',\n",
       " 'X1st.Flr.SF',\n",
       " 'X2nd.Flr.SF',\n",
       " 'Low.Qual.Fin.SF',\n",
       " 'Bsmt.Full.Bath',\n",
       " 'Bsmt.Half.Bath',\n",
       " 'Full.Bath',\n",
       " 'Half.Bath',\n",
       " 'Bedroom.AbvGr',\n",
       " 'Kitchen.AbvGr',\n",
       " 'Kitchen.Qual',\n",
       " 'TotRms.AbvGrd',\n",
       " 'Functional',\n",
       " 'Fireplaces',\n",
       " 'Fireplace.Qu',\n",
       " 'Garage.Type',\n",
       " 'Garage.Yr.Blt',\n",
       " 'Garage.Finish',\n",
       " 'Garage.Cars',\n",
       " 'Garage.Area',\n",
       " 'Garage.Qual',\n",
       " 'Garage.Cond',\n",
       " 'Paved.Drive',\n",
       " 'Wood.Deck.SF',\n",
       " 'Open.Porch.SF',\n",
       " 'Enclosed.Porch',\n",
       " 'X3Ssn.Porch',\n",
       " 'Screen.Porch',\n",
       " 'Pool.Area',\n",
       " 'Pool.QC',\n",
       " 'Fence',\n",
       " 'Misc.Feature',\n",
       " 'Misc.Val',\n",
       " 'Mo.Sold',\n",
       " 'Yr.Sold',\n",
       " 'Sale.Type',\n",
       " 'Sale.Condition']"
      ]
     },
     "execution_count": 14,
     "metadata": {},
     "output_type": "execute_result"
    }
   ],
   "source": [
    "file_path = 'data/ames_prices.csv'\n",
    "Price = pd.read_csv(file_path)\n",
    "Price.head()\n",
    "Price.columns.tolist()\n"
   ]
  },
  {
   "cell_type": "code",
   "execution_count": 17,
   "id": "df5c67c3",
   "metadata": {},
   "outputs": [
    {
     "name": "stdout",
     "output_type": "stream",
     "text": [
      "Total number of rows: 2930\n"
     ]
    }
   ],
   "source": [
    "row_count = len(Price)\n",
    "print(f\"Total number of rows: {row_count}\")\n"
   ]
  },
  {
   "cell_type": "code",
   "execution_count": 21,
   "id": "64b8a185",
   "metadata": {},
   "outputs": [
    {
     "name": "stdout",
     "output_type": "stream",
     "text": [
      "Overall.Qual\n",
      "5     825\n",
      "6     732\n",
      "7     602\n",
      "8     350\n",
      "4     226\n",
      "9     107\n",
      "3      40\n",
      "10     31\n",
      "2      13\n",
      "1       4\n",
      "Name: count, dtype: int64\n",
      "Missing values in 'Overall.Qual': 0\n"
     ]
    }
   ],
   "source": [
    "print(Price['Overall.Qual'].value_counts(dropna=False))\n",
    "missing_values_count = Price['Overall.Qual'].isnull().sum() \n",
    "print(f\"Missing values in 'Overall.Qual': {missing_values_count}\")"
   ]
  },
  {
   "cell_type": "code",
   "execution_count": 25,
   "id": "a6d4e182",
   "metadata": {},
   "outputs": [
    {
     "name": "stdout",
     "output_type": "stream",
     "text": [
      "price\n",
      "135000    34\n",
      "140000    33\n",
      "130000    29\n",
      "155000    28\n",
      "145000    26\n",
      "          ..\n",
      "164990     1\n",
      "117250     1\n",
      "97900      1\n",
      "35000      1\n",
      "138887     1\n",
      "Name: count, Length: 1032, dtype: int64\n",
      "Missing values in 'price': 0\n"
     ]
    }
   ],
   "source": [
    "print(Price['price'].value_counts(dropna=False))\n",
    "missing_values_count = Price['price'].isnull().sum() \n",
    "print(f\"Missing values in 'price': {missing_values_count}\")"
   ]
  },
  {
   "cell_type": "code",
   "execution_count": 26,
   "id": "93db86b4",
   "metadata": {},
   "outputs": [
    {
     "name": "stdout",
     "output_type": "stream",
     "text": [
      "price   Overall.Qual\n",
      "130000  5               22\n",
      "135000  5               21\n",
      "145000  5               15\n",
      "140000  5               14\n",
      "127000  5               13\n",
      "                        ..\n",
      "153337  5                1\n",
      "153000  4                1\n",
      "152500  7                1\n",
      "        5                1\n",
      "154204  6                1\n",
      "Name: count, Length: 1598, dtype: int64\n",
      "    price  Overall.Qual\n",
      "0  215000             6\n",
      "1  105000             5\n",
      "2  172000             6\n",
      "3  244000             7\n",
      "4  189900             5\n"
     ]
    }
   ],
   "source": [
    "Price_Final = Price[['price', 'Overall.Qual']]\n",
    "# Price_Final.isnull().sum()\n",
    "print(Price_Final.value_counts(dropna=False))\n",
    "print( Price_Final.head())\n"
   ]
  },
  {
   "cell_type": "code",
   "execution_count": 27,
   "id": "db5a7c60",
   "metadata": {},
   "outputs": [
    {
     "data": {
      "image/png": "[encoded data removed]",
      "text/plain": [
       "<Figure size 800x600 with 1 Axes>"
      ]
     },
     "metadata": {},
     "output_type": "display_data"
    }
   ],
   "source": [
    "plt.figure(figsize=(8, 6))\n",
    "sns.scatterplot(x='Overall.Qual', y='price', data=Price_Final)\n",
    "plt.xlabel('Overall Quality')\n",
    "plt.ylabel('Price')\n",
    "plt.title('Scatterplot of Overal Quality vs Price')\n",
    "plt.show()"
   ]
  },
  {
   "cell_type": "code",
   "execution_count": 28,
   "id": "6fd303dd",
   "metadata": {},
   "outputs": [
    {
     "data": {
      "text/plain": [
       "<Axes: xlabel='Overall.Qual', ylabel='price'>"
      ]
     },
     "execution_count": 28,
     "metadata": {},
     "output_type": "execute_result"
    },
    {
     "data": {
      "image/png": "[encoded data removed]",
      "text/plain": [
       "<Figure size 640x480 with 1 Axes>"
      ]
     },
     "metadata": {},
     "output_type": "display_data"
    }
   ],
   "source": [
    "means = Price.loc[:,['price','Overall.Qual']].groupby('Overall.Qual').mean()\n",
    "sns.scatterplot(data=Price_Final, y='price', x='Overall.Qual',alpha=.05, label='data')\n",
    "sns.lineplot(data=Price_Final, x='Overall.Qual',y='price',color='orange', label='$\\\\widehat{\\\\mathbb{E}}[Y|X=x]$')\n",
    "\n"
   ]
  },
  {
   "cell_type": "markdown",
   "id": "b7124b6f",
   "metadata": {},
   "source": [
    "The concept of causality is a difficult one, but I think the answer is yes. It is important to address this because just becuase X can predict Y, doesn't mean X causes Y. In this case. Overall Quality doesn't necessarily cause higher prices. The hidden variables in play are economic concepts such as supply and demand, and the value of money. Money is the way we measure value. Because higher quality indicates higher value, the higher the quality, the higher the price. \n",
    "\n",
    "As I mentioned previously, even though X might not cause Y, doesn't mean we can use X to predict Y. In other words there might be a relationship between X and Y even if it is not causal relationship. A threat in my specific example is the measure of \"quality\". The quality variable is not defined and could be subjective. One person's view of good quality might mean clean appliances while another person's might be a good looking house. This makes it hard to say for sure that quality drives prices, given quality is undefined. Additonally, limited supplies and a poor housing market can push up prices, independent of actual quality. This is why it is important for us to define these variables. But Yes, you can still use this model to predict prices given quality becuase it has been a reliable indicator for other models and the scatterplot shows a positive relationship between quality and price. The CEF makes sense since it shows us the expected value given knowledge of the quality of the house. It follows the trend of the scatterplot which checks out. "
   ]
  }
 ],
 "metadata": {
  "kernelspec": {
   "display_name": "Python 3",
   "language": "python",
   "name": "python3"
  },
  "language_info": {
   "codemirror_mode": {
    "name": "ipython",
    "version": 3
   },
   "file_extension": ".py",
   "mimetype": "text/x-python",
   "name": "python",
   "nbconvert_exporter": "python",
   "pygments_lexer": "ipython3",
   "version": "3.9.5"
  }
 },
 "nbformat": 4,
 "nbformat_minor": 5
}
